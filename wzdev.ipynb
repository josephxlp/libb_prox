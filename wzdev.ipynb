{
 "cells": [
  {
   "cell_type": "code",
   "execution_count": 18,
   "metadata": {},
   "outputs": [],
   "source": [
    "# labels should be on abother folder"
   ]
  },
  {
   "cell_type": "code",
   "execution_count": 38,
   "metadata": {},
   "outputs": [],
   "source": [
    "import os\n",
    "from glob import glob\n"
   ]
  },
  {
   "cell_type": "code",
   "execution_count": 41,
   "metadata": {},
   "outputs": [],
   "source": [
    "name = \"_multi_DTM_LiDAR\"\n",
    "name = \"label\"\n",
    "tifpath = f\"/media/ljp238/12TBWolf/RSPROX/OUTPUT_TILES/TILES12/*/*{name}*.tif\"\n",
    "xmlpath = f\"/media/ljp238/12TBWolf/RSPROX/OUTPUT_TILES/TILES12/*/*{name}*.aux.xml\""
   ]
  },
  {
   "cell_type": "code",
   "execution_count": 43,
   "metadata": {},
   "outputs": [
    {
     "name": "stdout",
     "output_type": "stream",
     "text": [
      "28\n"
     ]
    }
   ],
   "source": [
    "path = xmlpath #tifpath\n",
    "files = glob(path); print(len(files))\n",
    "for fi in files:os.remove(fi)"
   ]
  },
  {
   "cell_type": "code",
   "execution_count": 28,
   "metadata": {},
   "outputs": [
    {
     "name": "stdout",
     "output_type": "stream",
     "text": [
      "205\n"
     ]
    }
   ],
   "source": [
    "exclude_suffixes = [\"label_kmeans_slope.tif\", \"label_kmeans.tif\", \"label_landdata.tif\", \"label_slope_adathresh.tif\"]\n",
    "\n",
    "# Filtrando os arquivos\n",
    "filtered_files = [f for f in files if not any(f.endswith(suffix) for suffix in exclude_suffixes)]\n",
    "\n",
    "print(len(filtered_files))  "
   ]
  },
  {
   "cell_type": "code",
   "execution_count": 29,
   "metadata": {},
   "outputs": [],
   "source": [
    "for fi in filtered_files:os.remove(fi)"
   ]
  },
  {
   "cell_type": "code",
   "execution_count": 45,
   "metadata": {},
   "outputs": [],
   "source": [
    "dtm_path = \"/media/ljp238/12TBWolf/RSPROX/GEDI_GRID/tiles/N13E103/N13E103_GEDI03_dtm____GWR_12.tif\"\n",
    "dsm_path = \"/media/ljp238/12TBWolf/RSPROX/GEDI_GRID/tiles/N13E103/N13E103_GEDI03_dsm____GWR_12.tif\"\n",
    "\n",
    "outdir = \"/home/ljp238/Desktop/testing_gedi/\""
   ]
  },
  {
   "cell_type": "code",
   "execution_count": null,
   "metadata": {},
   "outputs": [],
   "source": []
  },
  {
   "cell_type": "code",
   "execution_count": 51,
   "metadata": {},
   "outputs": [],
   "source": [
    "import rasterio\n",
    "import numpy as np\n",
    "import os\n",
    "\n",
    "def raster_calc(dsm_path, dtm_path, operation, out_dir, output_name):\n",
    "    \"\"\"\n",
    "    Realiza a soma ou subtração de dois rasters (DSM e DTM) e salva o resultado.\n",
    "\n",
    "    :param dsm_path: Caminho do arquivo DSM (Digital Surface Model).\n",
    "    :param dtm_path: Caminho do arquivo DTM (Digital Terrain Model).\n",
    "    :param operation: Operação a ser realizada ('add' para soma, 'subtract' para subtração).\n",
    "    :param out_dir: Diretório de saída para salvar o resultado.\n",
    "    :param output_name: Nome do arquivo de saída (sem extensão).\n",
    "    \"\"\"\n",
    "\n",
    "    # Abrir os arquivos raster\n",
    "    with rasterio.open(dsm_path) as dsm, rasterio.open(dtm_path) as dtm:\n",
    "        if dsm.shape != dtm.shape:\n",
    "            raise ValueError(\"Os rasters DSM e DTM devem ter o mesmo tamanho.\")\n",
    "\n",
    "        dsm_data = dsm.read(1)  # Lê a primeira banda\n",
    "        dtm_data = dtm.read(1)  # Lê a primeira banda\n",
    "\n",
    "        # Realizar a operação desejada\n",
    "        if operation == 'add':\n",
    "            result_data = dsm_data + dtm_data\n",
    "        elif operation == 'subtract':\n",
    "            result_data = dsm_data - dtm_data\n",
    "        else:\n",
    "            raise ValueError(\"Operação inválida. Escolha 'add' ou 'subtract'.\")\n",
    "\n",
    "        # Configuração dos metadados para o arquivo de saída\n",
    "        output_meta = dsm.meta.copy()\n",
    "        output_meta.update({\"dtype\": \"float32\"})  # Garante compatibilidade\n",
    "\n",
    "        # Criar diretório de saída se não existir\n",
    "        \n",
    "        os.makedirs(out_dir, exist_ok=True)\n",
    "        output_path = os.path.join(out_dir, f\"{output_name}.tif\")\n",
    "\n",
    "        # Salvar o raster resultante\n",
    "        with rasterio.open(output_path, \"w\", **output_meta) as dest:\n",
    "            dest.write(result_data.astype(np.float32), 1)\n",
    "\n",
    "        print(f\"Arquivo salvo em: {output_path}\")\n",
    "\n",
    "    return output_path"
   ]
  },
  {
   "cell_type": "code",
   "execution_count": 47,
   "metadata": {},
   "outputs": [
    {
     "name": "stdout",
     "output_type": "stream",
     "text": [
      "Arquivo salvo em: /home/ljp238/Desktop/testing_gedi/dsm_p_dsm.tif\n"
     ]
    }
   ],
   "source": [
    "\n",
    "#process_rasters(dsm_path,dsm_path, \"add\", outdir, \"dsm_p_dsm\")\n"
   ]
  },
  {
   "cell_type": "code",
   "execution_count": null,
   "metadata": {},
   "outputs": [
    {
     "name": "stdout",
     "output_type": "stream",
     "text": [
      "Arquivo salvo em: /home/ljp238/Desktop/testing_gedi/N13E103_GRID.tif\n"
     ]
    }
   ],
   "source": [
    "dtm_path = \"/media/ljp238/12TBWolf/RSPROX/GEDI_GRID/tiles/N13E103/N13E103_GEDI03_dtm____GWR_12.tif\"\n",
    "egm_path = \"/media/ljp238/12TBWolf/RSPROX/OUTPUT_TILES/TILES12/N13E103/N13E103_edem_EGM.tif\"\n",
    "wgs_path = \"/media/ljp238/12TBWolf/RSPROX/OUTPUT_TILES/TILES12/N13E103/N13E103_edem_W84.tif\"\n",
    "\n"
   ]
  },
  {
   "cell_type": "markdown",
   "metadata": {},
   "source": [
    "grid equations:\n",
    "- grid=egm - wgs | egm=grid+wgs | wgs=egm−grid"
   ]
  },
  {
   "cell_type": "code",
   "execution_count": null,
   "metadata": {},
   "outputs": [
    {
     "ename": "KeyboardInterrupt",
     "evalue": "",
     "output_type": "error",
     "traceback": [
      "\u001b[0;31m---------------------------------------------------------------------------\u001b[0m",
      "\u001b[0;31mKeyboardInterrupt\u001b[0m                         Traceback (most recent call last)",
      "Cell \u001b[0;32mIn[56], line 1\u001b[0m\n\u001b[0;32m----> 1\u001b[0m grid \u001b[38;5;241m=\u001b[39m \u001b[43mprocess_rasters\u001b[49m\u001b[43m(\u001b[49m\u001b[43megm\u001b[49m\u001b[43m,\u001b[49m\u001b[43mwgs\u001b[49m\u001b[43m,\u001b[49m\u001b[43m \u001b[49m\u001b[38;5;124;43m\"\u001b[39;49m\u001b[38;5;124;43msubtract\u001b[39;49m\u001b[38;5;124;43m\"\u001b[39;49m\u001b[43m,\u001b[49m\u001b[43m \u001b[49m\u001b[43moutdir\u001b[49m\u001b[43m,\u001b[49m\u001b[43m \u001b[49m\u001b[38;5;124;43m\"\u001b[39;49m\u001b[38;5;124;43mN13E103_GRID\u001b[39;49m\u001b[38;5;124;43m\"\u001b[39;49m\u001b[43m)\u001b[49m\n\u001b[1;32m      2\u001b[0m \u001b[38;5;66;03m#dsm_grid = process_rasters(dsm_path,grid, \"add\", outdir, \"N13E103_DSM_GRID\")\u001b[39;00m\n\u001b[1;32m      3\u001b[0m dtm_grid \u001b[38;5;241m=\u001b[39m process_rasters(dtm_path,grid, \u001b[38;5;124m\"\u001b[39m\u001b[38;5;124madd\u001b[39m\u001b[38;5;124m\"\u001b[39m, outdir, \u001b[38;5;124m\"\u001b[39m\u001b[38;5;124mN13E103_DTM_GRID\u001b[39m\u001b[38;5;124m\"\u001b[39m)\n",
      "Cell \u001b[0;32mIn[51], line 43\u001b[0m, in \u001b[0;36mprocess_rasters\u001b[0;34m(dsm_path, dtm_path, operation, out_dir, output_name)\u001b[0m\n\u001b[1;32m     41\u001b[0m     \u001b[38;5;66;03m# Salvar o raster resultante\u001b[39;00m\n\u001b[1;32m     42\u001b[0m     \u001b[38;5;28;01mwith\u001b[39;00m rasterio\u001b[38;5;241m.\u001b[39mopen(output_path, \u001b[38;5;124m\"\u001b[39m\u001b[38;5;124mw\u001b[39m\u001b[38;5;124m\"\u001b[39m, \u001b[38;5;241m*\u001b[39m\u001b[38;5;241m*\u001b[39moutput_meta) \u001b[38;5;28;01mas\u001b[39;00m dest:\n\u001b[0;32m---> 43\u001b[0m         dest\u001b[38;5;241m.\u001b[39mwrite(\u001b[43mresult_data\u001b[49m\u001b[38;5;241;43m.\u001b[39;49m\u001b[43mastype\u001b[49m\u001b[43m(\u001b[49m\u001b[43mnp\u001b[49m\u001b[38;5;241;43m.\u001b[39;49m\u001b[43mfloat32\u001b[49m\u001b[43m)\u001b[49m, \u001b[38;5;241m1\u001b[39m)\n\u001b[1;32m     45\u001b[0m     \u001b[38;5;28mprint\u001b[39m(\u001b[38;5;124mf\u001b[39m\u001b[38;5;124m\"\u001b[39m\u001b[38;5;124mArquivo salvo em: \u001b[39m\u001b[38;5;132;01m{\u001b[39;00moutput_path\u001b[38;5;132;01m}\u001b[39;00m\u001b[38;5;124m\"\u001b[39m)\n\u001b[1;32m     47\u001b[0m \u001b[38;5;28;01mreturn\u001b[39;00m output_path\n",
      "\u001b[0;31mKeyboardInterrupt\u001b[0m: "
     ]
    }
   ],
   "source": [
    "\n",
    "grid = process_rasters(egm_path,wgs_path, \"subtract\", outdir, \"N13E103_GRID\")\n",
    "#dsm_grid = process_rasters(dsm_path,grid, \"add\", outdir, \"N13E103_DSM_GRID\")\n",
    "dtm_grid = process_rasters(dtm_path,grid, \"add\", outdir, \"N13E103_DTM_GRID\")"
   ]
  },
  {
   "cell_type": "code",
   "execution_count": 57,
   "metadata": {},
   "outputs": [],
   "source": [
    "from glob import glob"
   ]
  },
  {
   "cell_type": "code",
   "execution_count": 69,
   "metadata": {},
   "outputs": [],
   "source": [
    "dtm_files = glob(\"/media/ljp238/12TBWolf/RSPROX/GEDI_GRID/tiles/*/*_GEDI03_dtm____GWR_12.tif\")\n",
    "egm_files= glob(\"/media/ljp238/12TBWolf/RSPROX/OUTPUT_TILES/TILES12/*/*_edem_EGM.tif\")\n",
    "wgs_files = glob(\"/media/ljp238/12TBWolf/RSPROX/OUTPUT_TILES/TILES12/*/*_edem_W84.tif\")\n",
    "outdir_pstprox = \"/home/ljp238/Desktop/testing_gedi/POSTPROCESSING_DEMS/\"\n",
    "assert len(dtm_files) == len(egm_files) == len(wgs_files), 'Missing files'"
   ]
  },
  {
   "cell_type": "code",
   "execution_count": 70,
   "metadata": {},
   "outputs": [
    {
     "name": "stdout",
     "output_type": "stream",
     "text": [
      "N09E105\n",
      "N09E106\n",
      "N10E104\n",
      "N10E105\n",
      "N10E106\n",
      "N11E104\n",
      "N11E105\n",
      "N12E103\n",
      "N12E104\n",
      "N12E105\n",
      "N13E103\n",
      "N13E104\n",
      "N13E105\n",
      "S01W063\n",
      "S01W064\n",
      "S02W063\n",
      "S02W064\n"
     ]
    }
   ],
   "source": [
    "for i in range(len(dtm_files)):\n",
    "    dtm_path = dtm_files[i]\n",
    "    egm_path = egm_files[i]\n",
    "    wgs_path = wgs_files[i]\n",
    "    tilename = os.path.dirname(dtm_path).split('/')[-1]\n",
    "    print(tilename)\n",
    "    # grid_path = process_rasters(egm_path,wgs_path, \"subtract\", outdir_pstprox, f\"{tilename}_GRID\")\n",
    "    # dtm_grid_path = process_rasters(dtm_path,grid_path, \"add\", outdir_pstprox, f\"{tilename}_DTM_GRID\")"
   ]
  },
  {
   "cell_type": "code",
   "execution_count": null,
   "metadata": {},
   "outputs": [],
   "source": [
    "import os\n",
    "import concurrent.futures\n",
    "\n",
    "def process_tile(i):\n",
    "    dtm_path = dtm_files[i]\n",
    "    egm_path = egm_files[i]\n",
    "    wgs_path = wgs_files[i]\n",
    "    tilename = os.path.dirname(dtm_path).split('/')[-1    \n",
    "    print(f\"Processando {tilename}...\")\n",
    "\n",
    "    # Executa as operações\n",
    "    grid_path = process_rasters(egm_path, wgs_path, \"subtract\", outdir_pstprox, f\"{tilename}_GRID\")\n",
    "    dtm_grid_path = process_rasters(dtm_path, grid_path, \"add\", outdir_pstprox, f\"{tilename}_DTM_GRID\")\n",
    "\n",
    "    return tilename  # Apenas para indicar conclusão\n",
    "\n",
    "# Número de threads (ajuste conforme necessário)\n",
    "num_threads = min(4, len(dtm_files))  \n",
    "\n",
    "# Executa em paralelo\n",
    "with concurrent.futures.ThreadPoolExecutor(max_workers=num_threads) as executor:\n",
    "    results = list(executor.map(process_tile, range(len(dtm_files))))\n",
    "\n",
    "print(\"Processamento concluído!\")\n"
   ]
  },
  {
   "cell_type": "code",
   "execution_count": 1,
   "metadata": {},
   "outputs": [],
   "source": [
    "import os"
   ]
  },
  {
   "cell_type": "code",
   "execution_count": 2,
   "metadata": {},
   "outputs": [
    {
     "data": {
      "text/plain": [
       "'/home/ljp238/Documents/UoE/libb_prox'"
      ]
     },
     "execution_count": 2,
     "metadata": {},
     "output_type": "execute_result"
    }
   ],
   "source": [
    "os.getcwd()"
   ]
  },
  {
   "cell_type": "code",
   "execution_count": null,
   "metadata": {},
   "outputs": [],
   "source": [
    "files = glob('/home/ljp238/Desktop/testing_gedi/POSTPROCESSING_DEMS/*')"
   ]
  },
  {
   "cell_type": "code",
   "execution_count": 1,
   "metadata": {},
   "outputs": [
    {
     "data": {
      "text/plain": [
       "0"
      ]
     },
     "execution_count": 1,
     "metadata": {},
     "output_type": "execute_result"
    }
   ],
   "source": [
    "import os\n",
    "os.system('notify-send \"Python Script Finished\" \"Your script has completed execution.\"')\n"
   ]
  },
  {
   "cell_type": "code",
   "execution_count": 3,
   "metadata": {},
   "outputs": [],
   "source": [
    "import os\n",
    "\n",
    "def notify_send(title: str, message: str, duration: int = 5):\n",
    "    \"\"\"\n",
    "    Displays a notification on Linux using notify-send.\n",
    "    \n",
    "    Parameters:\n",
    "    title (str): The notification title.\n",
    "    message (str): The notification message.\n",
    "    duration (int): Time in seconds to display the notification.\n",
    "    \"\"\"\n",
    "    os.system(f'notify-send -t {duration * 1000} \"{title}\" \"{message}\"')\n",
    "\n",
    "# Example usage\n",
    "notify_send(\"Python Script Finished\", \"Your script has completed execution.\", 50)\n"
   ]
  },
  {
   "cell_type": "code",
   "execution_count": 4,
   "metadata": {},
   "outputs": [],
   "source": [
    "gpass = \"Exeter@2023\"\n",
    "from glob import glob \n",
    "from os import remove"
   ]
  },
  {
   "cell_type": "code",
   "execution_count": 12,
   "metadata": {},
   "outputs": [
    {
     "name": "stdout",
     "output_type": "stream",
     "text": [
      "66\n",
      "66\n"
     ]
    }
   ],
   "source": [
    "pattern = \"/media/ljp238/12TBWolf/RSPROX/OUTPUT_TILES/TILES12/*/*.parquet\"\n",
    "pattern = \"/media/ljp238/12TBWolf/RSPROX/OUTPUT_TILES/TILES12/*/*_dsm_dtm_kmeans.tif\"\n",
    "pattern = \"/media/ljp238/12TBWolf/RSPROX/OUTPUT_TILES/TILES12/*/*.tif.aux.xml\"\n",
    "files = glob(pattern); print(len(pattern))\n",
    "files = list(set(files)); print(len(pattern))\n",
    "#for fi in files:remove(fi)"
   ]
  },
  {
   "cell_type": "code",
   "execution_count": 13,
   "metadata": {},
   "outputs": [
    {
     "ename": "NameError",
     "evalue": "name 'os' is not defined",
     "output_type": "error",
     "traceback": [
      "\u001b[0;31m---------------------------------------------------------------------------\u001b[0m",
      "\u001b[0;31mNameError\u001b[0m                                 Traceback (most recent call last)",
      "Cell \u001b[0;32mIn[13], line 3\u001b[0m\n\u001b[1;32m      1\u001b[0m method \u001b[38;5;241m=\u001b[39m \u001b[38;5;124m'\u001b[39m\u001b[38;5;124mmlinterps\u001b[39m\u001b[38;5;124m'\u001b[39m \n\u001b[1;32m      2\u001b[0m dem_ipath \u001b[38;5;241m=\u001b[39m \u001b[38;5;124m\"\u001b[39m\u001b[38;5;124m/media/ljp238/12TBWolf/RSPROX/OUT_TILES/TILES12/N13E103/N13E103_multi_DTM_LiDAR.tif\u001b[39m\u001b[38;5;124m\"\u001b[39m\n\u001b[0;32m----> 3\u001b[0m tile_dpath \u001b[38;5;241m=\u001b[39m \u001b[43mos\u001b[49m\u001b[38;5;241m.\u001b[39mpath\u001b[38;5;241m.\u001b[39mdirname(dem_ipath,\u001b[38;5;124m'\u001b[39m\u001b[38;5;124mvfill\u001b[39m\u001b[38;5;124m'\u001b[39m)\n\u001b[1;32m      4\u001b[0m bname \u001b[38;5;241m=\u001b[39m os\u001b[38;5;241m.\u001b[39mpath\u001b[38;5;241m.\u001b[39mbasename(dem_ipath)\u001b[38;5;241m.\u001b[39mreplace(\u001b[38;5;124m'\u001b[39m\u001b[38;5;124m.tif\u001b[39m\u001b[38;5;124m'\u001b[39m, \u001b[38;5;124mf\u001b[39m\u001b[38;5;124m'\u001b[39m\u001b[38;5;124m_\u001b[39m\u001b[38;5;132;01m{\u001b[39;00mmethod\u001b[38;5;132;01m}\u001b[39;00m\u001b[38;5;124m.tif\u001b[39m\u001b[38;5;124m'\u001b[39m)\n\u001b[1;32m      5\u001b[0m os\u001b[38;5;241m.\u001b[39mmakedirs(tile_dpath,exist_ok\u001b[38;5;241m=\u001b[39m\u001b[38;5;28;01mTrue\u001b[39;00m)\n",
      "\u001b[0;31mNameError\u001b[0m: name 'os' is not defined"
     ]
    }
   ],
   "source": [
    "method = 'mlinterps' \n",
    "dem_ipath = \"/media/ljp238/12TBWolf/RSPROX/OUT_TILES/TILES12/N13E103/N13E103_multi_DTM_LiDAR.tif\"\n",
    "tile_dpath = os.path.dirname(dem_ipath,'vfill')\n",
    "bname = os.path.basename(dem_ipath).replace('.tif', f'_{method}.tif')\n",
    "os.makedirs(tile_dpath,exist_ok=True)\n",
    "dem_opath = os.path.join(tile_dpath, bname)\n"
   ]
  },
  {
   "cell_type": "code",
   "execution_count": 4,
   "metadata": {},
   "outputs": [],
   "source": [
    "from glob import glob\n",
    "import os"
   ]
  },
  {
   "cell_type": "code",
   "execution_count": 8,
   "metadata": {},
   "outputs": [
    {
     "data": {
      "text/plain": [
       "[]"
      ]
     },
     "execution_count": 8,
     "metadata": {},
     "output_type": "execute_result"
    }
   ],
   "source": [
    "fpath = \"/media/ljp238/12TBWolf/RSPROX/OUT_TILES/TILES12/*/*.parquet\"\n",
    "files = glob(fpath)\n",
    "files"
   ]
  },
  {
   "cell_type": "code",
   "execution_count": 6,
   "metadata": {},
   "outputs": [],
   "source": [
    "for fi in files: os.remove(fi)"
   ]
  },
  {
   "cell_type": "code",
   "execution_count": null,
   "metadata": {},
   "outputs": [],
   "source": []
  }
 ],
 "metadata": {
  "kernelspec": {
   "display_name": "agluon",
   "language": "python",
   "name": "python3"
  },
  "language_info": {
   "codemirror_mode": {
    "name": "ipython",
    "version": 3
   },
   "file_extension": ".py",
   "mimetype": "text/x-python",
   "name": "python",
   "nbconvert_exporter": "python",
   "pygments_lexer": "ipython3",
   "version": "3.11.11"
  }
 },
 "nbformat": 4,
 "nbformat_minor": 2
}
