{
 "cells": [
  {
   "cell_type": "markdown",
   "metadata": {},
   "source": [
    "# wb generate tiles"
   ]
  },
  {
   "cell_type": "code",
   "execution_count": 2,
   "metadata": {},
   "outputs": [],
   "source": [
    "import os \n",
    "import sys \n",
    "from zvars import libb_prox_path\n",
    "sys.path.append(libb_prox_path)"
   ]
  },
  {
   "cell_type": "code",
   "execution_count": 3,
   "metadata": {},
   "outputs": [
    {
     "name": "stdout",
     "output_type": "stream",
     "text": [
      "Runnign wb_gentiles.py\n",
      "Input files: \n",
      "/media/ljp238/12TBWolf/RSPROX/OUTPUT_TILES/TILES12\n",
      "/media/ljp238/12TBWolf/RSPROX/OUTPUT_TILES/CONFIG/step0_ds_to_main_vars.yaml\n",
      "/media/ljp238/12TBWolf/RSPROX/OUTPUT_TILES/CONFIG/step1_main_vars_vrts.yaml\n",
      "\n"
     ]
    }
   ],
   "source": [
    "import os \n",
    "import time \n",
    "import multiprocessing\n",
    "from pprint import pprint\n",
    "from osgeo import gdal, gdalconst\n",
    "\n",
    "\n",
    "import ua_vrts as uops # \n",
    "#import utilsregrid as rops \n",
    "from upaths import TILES12_DPATH,step0_yaml_fpath, step1_yaml_fpath\n",
    "from ub_tiles import process_tile\n",
    "\n",
    "\n",
    "\n",
    "gdal.UseExceptions()\n",
    "mem_drv = gdal.GetDriverByName('MEM')\n",
    "gtif_drv = gdal.GetDriverByName('GTiff')\n",
    "vrt_drv = gdal.GetDriverByName(\"VRT\")\n",
    "\n",
    "names = ['tdem_dict', 'edem_dict', 'cdem_dict']\n",
    "dicname = names[0] \n",
    "\n",
    "print('Runnign wb_gentiles.py')\n",
    "print(f'Input files: \\n{TILES12_DPATH}\\n{step0_yaml_fpath}\\n{step1_yaml_fpath}')\n",
    "print('')\n",
    "#print(dicname)"
   ]
  },
  {
   "cell_type": "code",
   "execution_count": 4,
   "metadata": {},
   "outputs": [],
   "source": [
    "from zvars import WDIR\n",
    "TILES12_DPATH = WDIR"
   ]
  },
  {
   "cell_type": "markdown",
   "metadata": {},
   "source": [
    "NEXT ITERATION\n",
    "- Scale S1 and S2 \n",
    "- Grid from EDEM"
   ]
  },
  {
   "cell_type": "code",
   "execution_count": null,
   "metadata": {},
   "outputs": [],
   "source": [
    "if __name__ == '__main__':\n",
    "   \n",
    "    ti = time.perf_counter()\n",
    "    bpaths = uops.read_yaml(step0_yaml_fpath) \n",
    "    gpaths = uops.read_yaml(step1_yaml_fpath)\n",
    "    os.makedirs(TILES12_DPATH,exist_ok=True)\n",
    "    os.chdir(TILES12_DPATH)\n",
    "\n",
    "    if dicname == 'tdem_dict':\n",
    "        basefiles = bpaths['tdem_dict']['DEM']['files'] \n",
    "    elif dicname == 'cdem_dict':\n",
    "        basefiles = bpaths['cdem_dict']['DEM']['files'] \n",
    "    elif dicname == 'edem_dict':\n",
    "        basefiles = bpaths['edem_dict']['EGM']['files'] \n",
    "\n",
    "    #print(dicname)\n",
    "    print(f'basefiles {len(basefiles)}')\n",
    "    pprint(basefiles)\n",
    "    print(f'basefiles {len(basefiles)}')\n",
    "\n",
    "    tdem_dem_fpath = gpaths['tdem_DEM']\n",
    "    tdem_hem_fpath = gpaths['tdem_HEM']\n",
    "    tdem_wam_fpath = gpaths['tdem_WAM']  \n",
    "    tdem_com_fpath = gpaths['tdem_COM']\n",
    "    cdem_wbm_fpath = gpaths['cdem_WBM']\n",
    "\n",
    "    dtm_fpath = gpaths['multi_DTM_LiDAR']\n",
    "    esawc_fpath = gpaths['multi_ESAWC']\n",
    "    pdem_fpath = gpaths['pband']\n",
    "    cdem_dem_fpath = gpaths['cdem_DEM']\n",
    "    edem_dem_fpath = gpaths['edem_EGM']\n",
    "    edem_edem_W84_fpath = gpaths['edem_W84']\n",
    "    edem_lcm_fpath = gpaths['edem_LCM']\n",
    "    #wsfba_fpath = gpaths['wsfba']\n",
    "    #wsfbf_fpath = gpaths['wsfbf']\n",
    "    #wsfbh_fpath = gpaths['wsfbh']\n",
    "    #wsfbv_fpath = gpaths['wsfbv']\n",
    "    ####egm08_fpath = gpaths['egm08'] #@ put this back in\n",
    "    #dsm_fpath = gpaths['multi_DSM_LiDAR']\n",
    "    egm08_fpath = gpaths['egm08']\n",
    "    egm96_fpath = gpaths['egm96']\n",
    "    s1_fpath = gpaths['multi_S1']\n",
    "    s2_fpath = gpaths['multi_S2']\n",
    "   \n",
    "\n",
    "    num_processes = int(multiprocessing.cpu_count() * 0.75)\n",
    "    pool = multiprocessing.Pool(processes=num_processes)\n",
    "\n",
    "    for i, basefile in enumerate(basefiles):\n",
    "        print(f'{i}/{len(basefiles)} @{basefile}')\n",
    "        pool.apply_async(\n",
    "            process_tile, (basefile, TILES12_DPATH, tdem_dem_fpath, tdem_hem_fpath, \n",
    "                            tdem_wam_fpath, tdem_com_fpath, cdem_wbm_fpath, esawc_fpath, \n",
    "                            dtm_fpath,  pdem_fpath, cdem_dem_fpath, \n",
    "                            edem_dem_fpath,egm08_fpath,edem_edem_W84_fpath,egm96_fpath,\n",
    "                            edem_lcm_fpath,s1_fpath, s2_fpath))\n",
    "        \n",
    "    pool.close()\n",
    "    pool.join()"
   ]
  },
  {
   "cell_type": "code",
   "execution_count": 7,
   "metadata": {},
   "outputs": [],
   "source": [
    "from glob import glob\n",
    "import os"
   ]
  },
  {
   "cell_type": "code",
   "execution_count": 8,
   "metadata": {},
   "outputs": [],
   "source": [
    "files = glob('/media/ljp238/12TBWolf/RSPROX/OUT_TILES/TILES12/*/*_core.parquet')\n",
    "for fi in files:os.remove(fi)"
   ]
  },
  {
   "cell_type": "code",
   "execution_count": null,
   "metadata": {},
   "outputs": [],
   "source": []
  }
 ],
 "metadata": {
  "kernelspec": {
   "display_name": "agluon",
   "language": "python",
   "name": "python3"
  },
  "language_info": {
   "codemirror_mode": {
    "name": "ipython",
    "version": 3
   },
   "file_extension": ".py",
   "mimetype": "text/x-python",
   "name": "python",
   "nbconvert_exporter": "python",
   "pygments_lexer": "ipython3",
   "version": "3.11.11"
  }
 },
 "nbformat": 4,
 "nbformat_minor": 2
}
