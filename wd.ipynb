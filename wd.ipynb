{
 "cells": [
  {
   "cell_type": "code",
   "execution_count": 1,
   "metadata": {},
   "outputs": [],
   "source": [
    "import os \n",
    "import time"
   ]
  },
  {
   "cell_type": "code",
   "execution_count": 2,
   "metadata": {},
   "outputs": [],
   "source": [
    "def print_context(text):\n",
    "    print(' ')\n",
    "    \"\"\"\n",
    "    Prints the given text in a styled format, mimicking SAGA GIS console output.\n",
    "\n",
    "    Parameters:\n",
    "        text (str): The text to print.\n",
    "    \"\"\"\n",
    "    # Border symbols\n",
    "    border_char = \"=\" * 60\n",
    "    padding_char = \" \" * 4\n",
    "\n",
    "    # Print formatted text\n",
    "    print(border_char)\n",
    "    print(f\"{padding_char}ML - Process Log\")\n",
    "    print(border_char)\n",
    "\n",
    "    for line in text.split(\"\\n\"):\n",
    "        print(f\"{padding_char}{line}\")\n",
    "\n",
    "    print(border_char)\n",
    "\n",
    "def measure_time_beautifully(task_description, task_function, *args, **kwargs):\n",
    "    \"\"\"\n",
    "    Measures the execution time of a given function and prints the elapsed time in various units.\n",
    "\n",
    "    Parameters:\n",
    "        task_description (str): A description of the task being measured.\n",
    "        task_function (callable): The function to execute and measure.\n",
    "        *args: Positional arguments to pass to the task_function.\n",
    "        **kwargs: Keyword arguments to pass to the task_function.\n",
    "    \"\"\"\n",
    "    # Start the timer\n",
    "    start_time = time.perf_counter()\n",
    "\n",
    "    # Execute the task function\n",
    "    result = task_function(*args, **kwargs)\n",
    "\n",
    "    # Stop the timer\n",
    "    end_time = time.perf_counter()\n",
    "\n",
    "    # Calculate elapsed time\n",
    "    elapsed_seconds = end_time - start_time\n",
    "    elapsed_minutes = elapsed_seconds / 60\n",
    "    elapsed_hours = elapsed_minutes / 60\n",
    "    elapsed_days = elapsed_hours / 24\n",
    "\n",
    "    # Border symbols\n",
    "    border_char = \"=\" * 60\n",
    "    padding_char = \" \" * 4\n",
    "\n",
    "    # Print the execution time beautifully\n",
    "    print(border_char)\n",
    "    print(f\"{padding_char}Task Performance Report\")\n",
    "    print(border_char)\n",
    "    print(f\"{padding_char}Task: {task_description}\")\n",
    "    print(f\"{padding_char}Elapsed Time:\")\n",
    "    print(f\"{padding_char * 2}{elapsed_seconds:.2f} seconds\")\n",
    "    print(f\"{padding_char * 2}{elapsed_minutes:.2f} minutes\")\n",
    "    print(f\"{padding_char * 2}{elapsed_hours:.2f} hours\")\n",
    "    print(f\"{padding_char * 2}{elapsed_days:.2f} days\")\n",
    "    print(border_char)\n",
    "\n",
    "    return result\n"
   ]
  },
  {
   "cell_type": "code",
   "execution_count": 3,
   "metadata": {},
   "outputs": [],
   "source": [
    "import pandas as pd \n",
    "from ud_tilepartquets import list_files_by_tilenames\n",
    "from pprint import pprint"
   ]
  },
  {
   "cell_type": "code",
   "execution_count": 4,
   "metadata": {},
   "outputs": [
    {
     "name": "stdout",
     "output_type": "stream",
     "text": [
      "[1350000, 2700000, 4050000, 6750000, 10800000, 13500000, 27000000, 40500000]\n"
     ]
    }
   ],
   "source": [
    "ftcol = ['egm08',\n",
    " 'egm96',\n",
    " 'tdem_hem',\n",
    " 'multi_s1_band1',\n",
    " 'multi_s1_band2',\n",
    " 'multi_s2_band1',\n",
    " 'multi_s2_band2',\n",
    " 'multi_s2_band3',\n",
    " 'edem_w84',\n",
    " 'tdem_dem__fw',\n",
    " 'multi_dtm_lidar']\n",
    "\n",
    "N = 1000\n",
    "X=90\n",
    "yvar=\"zdif\"\n",
    "tcol='edem_w84' #\"edem\"\n",
    "rcol='multi_dtm_lidar'\n",
    "fcol = ['egm08', 'egm96', 'tdem_hem', \n",
    "        'multi_s1_band1', 'multi_s1_band2',\n",
    "        'multi_s2_band1', 'multi_s2_band2', 'multi_s2_band3']##, 'edem_w84']\n",
    "\n",
    "model_type=\"catboost\"\n",
    "num_rounds=10000 # d:1000\n",
    "\n",
    "def estimate_nsamples(target_samples=81_000_000, num_tiles=6, multipliers=[0.2, 0.3, 0.5, 0.8, 1, 2, 3]):\n",
    "    samples_per_tile = target_samples // num_tiles\n",
    "    nsamples = [int(samples_per_tile * multiplier) for multiplier in multipliers]\n",
    "    return nsamples\n",
    "\n",
    "# Calling the function\n",
    "\n",
    "\n",
    "multipliers=[0.1, 0.2, 0.3, 0.5, 0.8, 1, 2, 3]\n",
    "target_samples=81_000_000\n",
    "num_tiles=6\n",
    "Nsamples = estimate_nsamples(target_samples, num_tiles, multipliers)\n",
    "print(Nsamples)\n",
    "assert len(Nsamples) == len(multipliers), \"Multipliers do not much\""
   ]
  },
  {
   "cell_type": "code",
   "execution_count": 7,
   "metadata": {},
   "outputs": [],
   "source": [
    "from uvars import RES_DPATH, tilenames_lidar\n",
    "from ud_tilepartquets import dropnulls_bycol,check_fillnulls\n",
    "from sklearn.model_selection import train_test_split"
   ]
  },
  {
   "cell_type": "code",
   "execution_count": 101,
   "metadata": {},
   "outputs": [],
   "source": [
    "def full_pipeline(model_type=\"catboost\", num_rounds=100, X=12, N=1000):\n",
    "    yvar=\"zdif\"\n",
    "    tcol='edem_w84' #\"edem\"\n",
    "    rcol='multi_dtm_lidar'\n",
    "    fcol = ['egm08', 'egm96', 'tdem_hem', \n",
    "            'multi_s1_band1', 'multi_s1_band2',\n",
    "            'multi_s2_band1', 'multi_s2_band2', 'multi_s2_band3']\n",
    "\n",
    "\n",
    "    \"\"\"\n",
    "    Full pipeline for training a model with given parameters.\n",
    "    \"\"\"\n",
    "    out_dpath = f'output/cb_train_by_sample/{X}/{yvar}/nsample{N}_num_rounds{num_rounds}'\n",
    "    os.makedirs(out_dpath, exist_ok=True)\n",
    "    print(f\"Output directory created or already exists: {out_dpath}\")\n",
    "\n",
    "\n",
    "    print_context('# Step 1: List files by tilenames')\n",
    "    fparquet_list, tile_files_list = list_files_by_tilenames(RES_DPATH, X, tilenames_lidar)\n",
    "    print(f\"Found {len(fparquet_list)} parquet files and {len(tile_files_list)} tile files.\")\n",
    "    pprint(fparquet_list)\n",
    "\n",
    "    # if X == 12\n",
    "    dflist  = []\n",
    "    for fparquet in fparquet_list:\n",
    "        df = pd.read_parquet(fparquet)#, columns=tfcols)\n",
    "        print(f\"Dropping nulls from column '{tcol}'...\")\n",
    "        df = dropnulls_bycol(df, col=tcol)\n",
    "        print(f'Sampling from {os.path.basename(fparquet)}')\n",
    "        L = len(df)\n",
    "        if L < N:\n",
    "            print(f\"Warning: Requested sample size {N} exceeds available rows {L}. Sampling all rows instead.\")\n",
    "            df = df.sample(L)\n",
    "        else:\n",
    "            df = df.sample(N)\n",
    "            dflist.append(df)\n",
    "    df = pd.concat(dflist, ignore_index=True)\n",
    "\n",
    "    df = check_fillnulls(df)\n",
    "    \n",
    "    print(f\"Calculating {yvar} as the difference between '{tcol}' and 'ldem'...\")\n",
    "    df[yvar] = df[tcol].subtract(df[rcol])\n",
    "    print(f\"First few values of {yvar}:\\n\", df[yvar].head())\n",
    "\n",
    "    # Step 7: Split dataframe into training and validation sets\n",
    "    print(\"Splitting dataframe into training and validation sets...\")\n",
    "    train_df, valid_df = train_test_split(df, test_size=0.2, random_state=43)\n",
    "    print(f\"Training set size: {train_df.shape[0]} rows, Validation set size: {valid_df.shape[0]} rows.\")\n",
    "    del df  # Free memory\n",
    "\n",
    "    # Step 9: Train the model\n",
    "    print(f\"Training {model_type} model...\")\n",
    "    train_model(train_data=train_df, \n",
    "                valid_data=valid_df, \n",
    "                target_col=yvar, \n",
    "                features_col=fcol, \n",
    "                output_dir=out_dpath, # becomes outdir \n",
    "                model_type=model_type, \n",
    "                num_rounds=num_rounds)\n",
    "    print(\"Model training complete.\")\n",
    "    print(fname)\n",
    "\n",
    "\n",
    "    "
   ]
  },
  {
   "cell_type": "code",
   "execution_count": 102,
   "metadata": {},
   "outputs": [
    {
     "name": "stdout",
     "output_type": "stream",
     "text": [
      "Output directory created or already exists: output/cb_train_by_sample/90/zdif/nsample1000_num_rounds10000\n",
      " \n",
      "============================================================\n",
      "    ML - Process Log\n",
      "============================================================\n",
      "    # Step 1: List files by tilenames\n",
      "============================================================\n",
      "Found 6 parquet files and 6 tile files.\n",
      "['/media/ljp238/12TBWolf/RSPROX/OUTPUT_TILES/TILES90/N09E105/N09E105_byldem.parquet',\n",
      " '/media/ljp238/12TBWolf/RSPROX/OUTPUT_TILES/TILES90/N09E106/N09E106_byldem.parquet',\n",
      " '/media/ljp238/12TBWolf/RSPROX/OUTPUT_TILES/TILES90/N10E104/N10E104_byldem.parquet',\n",
      " '/media/ljp238/12TBWolf/RSPROX/OUTPUT_TILES/TILES90/N10E105/N10E105_byldem.parquet',\n",
      " '/media/ljp238/12TBWolf/RSPROX/OUTPUT_TILES/TILES90/N10E106/N10E106_byldem.parquet',\n",
      " '/media/ljp238/12TBWolf/RSPROX/OUTPUT_TILES/TILES90/N13E103/N13E103_byldem.parquet']\n",
      "============================================================\n",
      "    Task Performance Report\n",
      "============================================================\n",
      "    Task: Full Model Training Pipeline Training Single Model\n",
      "    Elapsed Time:\n",
      "        0.00 seconds\n",
      "        0.00 minutes\n",
      "        0.00 hours\n",
      "        0.00 days\n",
      "============================================================\n"
     ]
    }
   ],
   "source": [
    "measure_time_beautifully(\n",
    "                \"Full Model Training Pipeline Training Single Model\",\n",
    "                full_pipeline,\n",
    "                model_type=model_type,\n",
    "                num_rounds=num_rounds,\n",
    "                X=X,\n",
    "                N = N\n",
    "            )"
   ]
  },
  {
   "cell_type": "code",
   "execution_count": null,
   "metadata": {},
   "outputs": [],
   "source": []
  },
  {
   "cell_type": "code",
   "execution_count": null,
   "metadata": {},
   "outputs": [],
   "source": []
  },
  {
   "cell_type": "code",
   "execution_count": null,
   "metadata": {},
   "outputs": [],
   "source": []
  },
  {
   "cell_type": "code",
   "execution_count": 77,
   "metadata": {},
   "outputs": [],
   "source": [
    "f = \"/media/ljp238/12TBWolf/RSPROX/OUTPUT_TILES/TILES90/N09E106/N09E106_byldem.parquet\"\n",
    "df = pd.read_parquet(f)"
   ]
  },
  {
   "cell_type": "code",
   "execution_count": 80,
   "metadata": {},
   "outputs": [
    {
     "name": "stdout",
     "output_type": "stream",
     "text": [
      "['egm08', 'egm96', 'tdem_hem', 'multi_s1_band1', 'multi_s1_band2', 'multi_s2_band1', 'multi_s2_band2', 'multi_s2_band3', 'edem_w84', 'tdem_dem__fw', 'multi_dtm_lidar']\n"
     ]
    }
   ],
   "source": [
    "print(df.columns.tolist())"
   ]
  },
  {
   "cell_type": "code",
   "execution_count": null,
   "metadata": {},
   "outputs": [],
   "source": []
  }
 ],
 "metadata": {
  "kernelspec": {
   "display_name": "agluon",
   "language": "python",
   "name": "python3"
  },
  "language_info": {
   "codemirror_mode": {
    "name": "ipython",
    "version": 3
   },
   "file_extension": ".py",
   "mimetype": "text/x-python",
   "name": "python",
   "nbconvert_exporter": "python",
   "pygments_lexer": "ipython3",
   "version": "3.11.11"
  }
 },
 "nbformat": 4,
 "nbformat_minor": 2
}
